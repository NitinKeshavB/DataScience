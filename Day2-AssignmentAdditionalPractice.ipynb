{
 "cells": [
  {
   "cell_type": "code",
   "execution_count": 18,
   "metadata": {},
   "outputs": [
    {
     "name": "stdout",
     "output_type": "stream",
     "text": [
      "Name1: Acadgild\n",
      "echo_int: 5\n",
      "AcadgildAcadgildAcadgildAcadgildAcadgild\n"
     ]
    }
   ],
   "source": [
    "\"\"\"\n",
    "The function \"echo_name\" takes 2 parameters: a string value, \"name1\"and\n",
    "an integer value, \"echo_int\". It returns a string that is a concatenation of\n",
    "\"echo_int\" copies of \"name1\".\n",
    "Your task is to convert this simple function into a lambda function.\n",
    "Instructions:\n",
    "Define the lambda function \"echo_name\" using the variables \"name1\" and \"\n",
    "echo_int\". Replicate what the original function definition for \"echo_nam\n",
    "e ()\" does above.\n",
    "Call \"echo_name ()\" with the string argument 'acadgild' and the value 5,\n",
    "in that order. Assign the call to result - \"\"\"\n",
    "\n",
    "\n",
    "\n",
    "\n",
    "echo_name=lambda x,n:str(x)*n\n",
    "r=echo_name(input(\"Name1: \"),int(input(\"echo_int: \")))\n",
    "print(r)\n",
    "\n",
    "\n",
    "\n",
    "        "
   ]
  },
  {
   "cell_type": "code",
   "execution_count": 20,
   "metadata": {},
   "outputs": [
    {
     "name": "stdout",
     "output_type": "stream",
     "text": [
      "[120.56, 79.7, 117.14, 118.03999999999999]\n"
     ]
    }
   ],
   "source": [
    "\"\"\"\n",
    "2) Convert temperature in Celsius to Fahrenheit using map() and lambda\n",
    "functions\n",
    "Sample input\n",
    "Celsius = [49.2, 26.5, 47.3, 47.8]\n",
    "Expected Output\n",
    "[120.56, 79.7, 117.14, 118.03999999999999]\n",
    "\"\"\"\n",
    "\n",
    "Celsius = [49.2, 26.5, 47.3, 47.8]\n",
    "Fahrenheit = map(lambda x:((x * 1.8) + 32),Celsius)\n",
    "\n",
    "print(list(Fahrenheit))"
   ]
  },
  {
   "cell_type": "code",
   "execution_count": 2,
   "metadata": {},
   "outputs": [
    {
     "name": "stdout",
     "output_type": "stream",
     "text": [
      "Enter string:welcome To AcadGild\n",
      "['e', 'o', 'e', 'o', 'A', 'a', 'i']\n"
     ]
    }
   ],
   "source": [
    "\"\"\"\n",
    "The function filter(function, list) filters out all the elements of a list, for\n",
    "which the function function returns True.\n",
    "The function filter(f,l) needs a function f as its first argument. f re\n",
    "turns a Boolean value, i.e. either True or False. This function will be\n",
    "applied to every element of the list l. Only if f returns True will the\n",
    "element of the list be included in the result list\n",
    "Q. print the letters that are vowels using filter and lambda functions\n",
    "\"\"\"\n",
    "#StringVal=input(\"Enter string:\").strip().split('')\n",
    "#arr=\n",
    "FilterVowels=filter(lambda x:(x.lower()=='a' or x.lower()=='e' or x.lower()=='i' or x.lower()=='o' or x.lower()=='u'),input(\"Enter string:\").strip())\n",
    "print(list(FilterVowels))\n",
    "\n",
    "\n",
    "\n"
   ]
  },
  {
   "cell_type": "code",
   "execution_count": 9,
   "metadata": {},
   "outputs": [
    {
     "name": "stdout",
     "output_type": "stream",
     "text": [
      "EnterString: 123@Welc34ometo12@ac#adGild\n",
      "W\n",
      "e\n",
      "l\n",
      "c\n",
      "o\n",
      "m\n",
      "e\n",
      "t\n",
      "o\n",
      "a\n",
      "c\n",
      "a\n",
      "d\n",
      "G\n",
      "i\n",
      "l\n",
      "d\n"
     ]
    }
   ],
   "source": [
    "\"\"\"\n",
    "4) Use generator expression to print out only alphabets from the following\n",
    "string\n",
    "string = \"123@Welc34ometo12@ac#adGild\"\n",
    "'WelcometoacadGild'\n",
    "\"\"\"\n",
    "\n",
    "arr = input(\"EnterString: \")\n",
    "l=[]\n",
    "for val in arr:\n",
    "    if val.isalpha():\n",
    "        l.append(val)\n",
    "        \n",
    "it = iter(l)\n",
    "try:\n",
    "    while True:\n",
    "        print(next(it))\n",
    "except:\n",
    "    pass\n",
    "        \n",
    "    \n",
    "\n"
   ]
  },
  {
   "cell_type": "code",
   "execution_count": 15,
   "metadata": {},
   "outputs": [
    {
     "name": "stdout",
     "output_type": "stream",
     "text": [
      "Feburary\n"
     ]
    }
   ],
   "source": [
    "\"\"\"\n",
    "Implement a function longestWord() that takes a list of words and returns\n",
    "the longest one.\n",
    "Sample Word List\n",
    "word= [\"January\",\"Feburary\",\"March\",\"April\",\"May\",\"June\",\"July\"]\n",
    "Expected Output\n",
    "['Feburary']\n",
    "\"\"\"\n",
    "word= [\"January\",\"Feburary\",\"March\",\"April\",\"May\",\"June\",\"July\"]\n",
    "\n",
    "def longestWord(arg_word):\n",
    "    maxval=-1\n",
    "    maxword=''\n",
    "    for val in arg_word:\n",
    "        if(max(len(val),maxval)>maxval):\n",
    "            maxval=len(val)\n",
    "            maxword=val\n",
    "   \n",
    "    return maxword\n",
    "\n",
    "\n",
    "\n",
    "print(longestWord(word))"
   ]
  },
  {
   "cell_type": "code",
   "execution_count": null,
   "metadata": {},
   "outputs": [],
   "source": []
  }
 ],
 "metadata": {
  "kernelspec": {
   "display_name": "Python 3",
   "language": "python",
   "name": "python3"
  },
  "language_info": {
   "codemirror_mode": {
    "name": "ipython",
    "version": 3
   },
   "file_extension": ".py",
   "mimetype": "text/x-python",
   "name": "python",
   "nbconvert_exporter": "python",
   "pygments_lexer": "ipython3",
   "version": "3.7.1"
  }
 },
 "nbformat": 4,
 "nbformat_minor": 2
}
