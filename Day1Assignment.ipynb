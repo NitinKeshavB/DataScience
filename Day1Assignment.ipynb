{
 "cells": [
  {
   "cell_type": "code",
   "execution_count": 17,
   "metadata": {},
   "outputs": [
    {
     "data": {
      "text/plain": [
       "2"
      ]
     },
     "execution_count": 17,
     "metadata": {},
     "output_type": "execute_result"
    }
   ],
   "source": [
    "\"\"\"Install Jupyter Notebook and share the screenshot of the output\"\"\"\n",
    "1+1\n",
    "        "
   ]
  },
  {
   "cell_type": "code",
   "execution_count": null,
   "metadata": {},
   "outputs": [],
   "source": []
  },
  {
   "cell_type": "code",
   "execution_count": 2,
   "metadata": {},
   "outputs": [
    {
     "name": "stdout",
     "output_type": "stream",
     "text": [
      "[2002, 2009, 2016, 2023, 2037, 2044, 2051, 2058, 2072, 2079, 2086, 2093, 2107, 2114, 2121, 2128, 2142, 2149, 2156, 2163, 2177, 2184, 2191, 2198, 2212, 2219, 2226, 2233, 2247, 2254, 2261, 2268, 2282, 2289, 2296, 2303, 2317, 2324, 2331, 2338, 2352, 2359, 2366, 2373, 2387, 2394, 2401, 2408, 2422, 2429, 2436, 2443, 2457, 2464, 2471, 2478, 2492, 2499, 2506, 2513, 2527, 2534, 2541, 2548, 2562, 2569, 2576, 2583, 2597, 2604, 2611, 2618, 2632, 2639, 2646, 2653, 2667, 2674, 2681, 2688, 2702, 2709, 2716, 2723, 2737, 2744, 2751, 2758, 2772, 2779, 2786, 2793, 2807, 2814, 2821, 2828, 2842, 2849, 2856, 2863, 2877, 2884, 2891, 2898, 2912, 2919, 2926, 2933, 2947, 2954, 2961, 2968, 2982, 2989, 2996, 3003, 3017, 3024, 3031, 3038, 3052, 3059, 3066, 3073, 3087, 3094, 3101, 3108, 3122, 3129, 3136, 3143, 3157, 3164, 3171, 3178, 3192, 3199]\n"
     ]
    }
   ],
   "source": [
    "\"\"\"\"Write a program which will find all such numbers which are divisible by 7 but are not a\n",
    "multiple of 5, between 2000 and 3200 (both included). The numbers obtained should be printed\n",
    "in a comma-separated sequence on a single line.\"\"\"\n",
    "\n",
    "num=[]\n",
    "\n",
    "for i in range(2000,3201):\n",
    "    if (i%7==0) and (i%5!=0):\n",
    "        num.append(i)\n",
    "        \n",
    "print(num)\n",
    "        "
   ]
  },
  {
   "cell_type": "code",
   "execution_count": 15,
   "metadata": {},
   "outputs": [
    {
     "name": "stdout",
     "output_type": "stream",
     "text": [
      "Type FirstName and LastName: Nitin Keshav\n",
      "Keshav Nitin\n"
     ]
    }
   ],
   "source": [
    "\"\"\"\n",
    "3. Write a Python program to accept the user's first and last name and then getting them\n",
    "printed in the the reverse order with a space between first name and last name.\n",
    "\"\"\"\n",
    "\n",
    "FullName=input(\"Type FirstName and LastName: \").split(' ')\n",
    "print(' '.join(FullName[::-1]))\n",
    "#for name in reversed(input(\"Type FirstName and LastName: \").split(' ')):\n",
    " #   l.append(name)\n",
    "    \n",
    "#print(l)\n",
    "\n",
    "\n",
    "\n",
    "\n"
   ]
  },
  {
   "cell_type": "code",
   "execution_count": 5,
   "metadata": {},
   "outputs": [
    {
     "name": "stdout",
     "output_type": "stream",
     "text": [
      "type radius2\n",
      "volume is  33.49333333333333\n"
     ]
    }
   ],
   "source": [
    "\"\"\"\"Write a Python program to find the volume of a sphere with diameter 12 cm.\n",
    "Formula: V=4/3 * π * r 3\"\"\"\n",
    "\n",
    "r=int(input(\"type radius\"))\n",
    "v=(4/3)*3.14*r**3\n",
    "print(\"volume is \", v)"
   ]
  },
  {
   "cell_type": "code",
   "execution_count": 19,
   "metadata": {},
   "outputs": [
    {
     "name": "stdout",
     "output_type": "stream",
     "text": [
      "1 2 4 5 "
     ]
    }
   ],
   "source": [
    "\"\"\"Write a python program to print from 1 to 6 except 3 and 6\n",
    "Expected Output: 1 2 4 5\"\"\"\n",
    "\n",
    "for x in range(1, 7):\n",
    "    if(x == 3 or x == 6):\n",
    "        continue\n",
    "    print(x,end=' ')\n"
   ]
  },
  {
   "cell_type": "code",
   "execution_count": 25,
   "metadata": {},
   "outputs": [
    {
     "name": "stdout",
     "output_type": "stream",
     "text": [
      "*\n",
      "**\n",
      "***\n",
      "****\n",
      "*****\n",
      "****\n",
      "***\n",
      "**\n",
      "*\n",
      "\n"
     ]
    }
   ],
   "source": [
    "\"\"\"2) Write a Python program to construct the following pattern, using a nested\n",
    "for loop.\n",
    "*\n",
    "* *\n",
    "* * *\n",
    "* * * *\n",
    "* * * * *\n",
    "* * * *\n",
    "* * *\n",
    "* *\n",
    "*\n",
    "\"\"\"\n",
    "\n",
    "n=5\n",
    "for i in range(n):\n",
    "    print((i+1)*'*')\n",
    "for i in reversed(range(n)):\n",
    "    print((i)*'*')\n"
   ]
  },
  {
   "cell_type": "code",
   "execution_count": 26,
   "metadata": {},
   "outputs": [
    {
     "name": "stdout",
     "output_type": "stream",
     "text": [
      "55\n"
     ]
    }
   ],
   "source": [
    "\"\"\"Write a python program to print the sum of the first 10 numbers (1 to 10)\n",
    "using while loop  \n",
    "\n",
    "The sum of the first 10 integers: 55\n",
    "\"\"\"\n",
    "s=0\n",
    "for num in range(11):\n",
    "    s=s+num\n",
    "    \n",
    "print(s)"
   ]
  },
  {
   "cell_type": "code",
   "execution_count": 27,
   "metadata": {},
   "outputs": [
    {
     "name": "stdout",
     "output_type": "stream",
     "text": [
      "The sum of first 10 numbers is: 55\n"
     ]
    }
   ],
   "source": [
    "\"\"\"We use break statement to terminate the while loop without completing all\n",
    "the iterations. The program control goes outside the while and the next print\n",
    "statement is executed. Q. Repeat the while using “break” and print the sum\n",
    "of the first 10 integers\n",
    "Expected Output:\n",
    "The sum of the first 10 integers is: 55\"\"\"\n",
    "\n",
    "x = 1\n",
    "s = 0\n",
    "\n",
    "while (True):\n",
    "    if (x == 11):\n",
    "        break\n",
    "    s += x\n",
    "    x += 1\n",
    "\n",
    "print('The sum of first 10 numbers is:', s)"
   ]
  },
  {
   "cell_type": "code",
   "execution_count": 33,
   "metadata": {},
   "outputs": [
    {
     "name": "stdout",
     "output_type": "stream",
     "text": [
      "Type a number: -10\n",
      "-10 Is a negative number\n"
     ]
    }
   ],
   "source": [
    "\"\"\"5) Print the whether the number is positive or negative\"\"\"\n",
    "\n",
    "n=int(input(\"Type a number: \"))\n",
    "\n",
    "if (n>0):\n",
    "    print(str(n) + ' Is a positive number')\n",
    "else:\n",
    "    print(str(n) + ' Is a negative number')"
   ]
  },
  {
   "cell_type": "code",
   "execution_count": null,
   "metadata": {},
   "outputs": [],
   "source": []
  },
  {
   "cell_type": "code",
   "execution_count": null,
   "metadata": {},
   "outputs": [],
   "source": []
  }
 ],
 "metadata": {
  "kernelspec": {
   "display_name": "Python 3",
   "language": "python",
   "name": "python3"
  },
  "language_info": {
   "codemirror_mode": {
    "name": "ipython",
    "version": 3
   },
   "file_extension": ".py",
   "mimetype": "text/x-python",
   "name": "python",
   "nbconvert_exporter": "python",
   "pygments_lexer": "ipython3",
   "version": "3.7.1"
  }
 },
 "nbformat": 4,
 "nbformat_minor": 2
}
