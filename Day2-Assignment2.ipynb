{
 "cells": [
  {
   "cell_type": "code",
   "execution_count": 2,
   "metadata": {},
   "outputs": [
    {
     "name": "stdout",
     "output_type": "stream",
     "text": [
      "type a number 10\n",
      "55\n"
     ]
    }
   ],
   "source": [
    "\"\"\"Write a Python Program to implement your own myreduce() function which works exactly\n",
    "like Python's built-in function reduce()\"\"\"\n",
    "\n",
    "sum=0\n",
    "for i in range(int(input(\"type a number \"))+1):\n",
    "    sum=sum+i\n",
    "\n",
    "print (sum)"
   ]
  },
  {
   "cell_type": "code",
   "execution_count": 3,
   "metadata": {},
   "outputs": [
    {
     "name": "stdout",
     "output_type": "stream",
     "text": [
      "Type a number: 10\n",
      "[0, 2, 4, 6, 8, 10]\n"
     ]
    }
   ],
   "source": [
    "\"\"\"Write a Python program to implement your own myfilter() function which works exactly like\n",
    "Python's built-in function filter()\"\"\"\n",
    "\n",
    "CustomFilter=[x for x in range(int(input(\"Type a number: \"))+1) if x%2==0 ]\n",
    "print(CustomFilter)"
   ]
  },
  {
   "cell_type": "code",
   "execution_count": 9,
   "metadata": {},
   "outputs": [
    {
     "name": "stdout",
     "output_type": "stream",
     "text": [
      "type a wordACADGILD\n",
      "['A', 'C', 'A', 'D', 'G', 'I', 'L', 'D']\n"
     ]
    }
   ],
   "source": [
    "\"\"\"Implement List comprehensions to produce the following lists.\n",
    "Write List comprehensions to produce the following Lists\"\"\"\n",
    "\n",
    "#['A', 'C', 'A', 'D', 'G', 'I', ’L’, ‘ D’]\n",
    "\n",
    "InVal=[x for x in input(\"type a word\")]\n",
    "print(InVal)\n"
   ]
  },
  {
   "cell_type": "code",
   "execution_count": 2,
   "metadata": {},
   "outputs": [
    {
     "name": "stdout",
     "output_type": "stream",
     "text": [
      "x,y,z\n",
      "['x', 'xx', 'xxx', 'xxxx', 'y', 'yy', 'yyy', 'yyyy', 'z', 'zz', 'zzz', 'zzzz']\n"
     ]
    }
   ],
   "source": [
    "\"\"\"Implement List comprehensions to produce the following lists.\n",
    "Write List comprehensions to produce the following Lists\"\"\"\n",
    "\n",
    "#['x', 'xx', 'xxx', 'xxxx', 'y', 'yy', 'yyy', 'yyyy', 'z', 'zz', 'zzz', 'zzzz']\n",
    "\n",
    "\n",
    "Val=[x*y for x in input().split(',') for y in range(1,5)]\n",
    "print (Val)"
   ]
  },
  {
   "cell_type": "code",
   "execution_count": 1,
   "metadata": {},
   "outputs": [
    {
     "name": "stdout",
     "output_type": "stream",
     "text": [
      "String: x,y,z\n",
      "['x', 'y', 'z', 'xx', 'yy', 'zz', 'xxx', 'yyy', 'zzz', 'xxxx', 'yyyy', 'zzzz']\n"
     ]
    }
   ],
   "source": [
    "\"\"\"Implement List comprehensions to produce the following lists.\n",
    "Write List comprehensions to produce the following Lists\"\"\"\n",
    "\n",
    "#['x', 'y', 'z', 'xx', 'yy', 'zz', 'xxx', 'yyy', 'zzz', 'xxxx', 'yyyy', 'zzzz']\n",
    "\n",
    "lst=list(input(\"String: \").split(','))\n",
    "Val=[x*y for y in range(1,5) for x in lst]\n",
    "print(Val)\n"
   ]
  },
  {
   "cell_type": "code",
   "execution_count": 8,
   "metadata": {},
   "outputs": [
    {
     "name": "stdout",
     "output_type": "stream",
     "text": [
      "2\n",
      "3\n",
      "4\n",
      "3\n",
      "4\n",
      "5\n",
      "4\n",
      "5\n",
      "6\n",
      "[[['2'], ['3'], ['4'], ['3'], ['4'], ['5'], ['4'], ['5'], ['6']]]\n"
     ]
    }
   ],
   "source": [
    "\"\"\"Implement List comprehensions to produce the following lists.\n",
    "Write List comprehensions to produce the following Lists\"\"\"\n",
    "\n",
    "#[[2], [3], [4], [3], [4], [5], [4], [5], [6]]\n",
    "l=[]\n",
    "Val=[[y] for x in range(9) for y in input().split(',') ]\n",
    "l.append(list(Val))\n",
    "print(l)\n"
   ]
  },
  {
   "cell_type": "code",
   "execution_count": 2,
   "metadata": {},
   "outputs": [
    {
     "name": "stdout",
     "output_type": "stream",
     "text": [
      "2,3,4,5\n",
      "3,4,5,6\n",
      "4,5,6,7\n",
      "5,6,7,8\n",
      "[[['2,3,4,5'], ['3,4,5,6'], ['4,5,6,7'], ['5,6,7,8']]]\n"
     ]
    }
   ],
   "source": [
    "\"\"\"Implement List comprehensions to produce the following lists.\n",
    "Write List comprehensions to produce the following Lists\"\"\"\n",
    "\n",
    "#[[2, 3, 4, 5], [3, 4, 5, 6], [4, 5, 6, 7], [5, 6, 7, 8]]\n",
    "l=[]\n",
    "Val=[[y] for x in range(4) for y in input().split(' ')  ]\n",
    "l.append(list(Val))\n",
    "print(l)"
   ]
  },
  {
   "cell_type": "code",
   "execution_count": 3,
   "metadata": {},
   "outputs": [
    {
     "name": "stdout",
     "output_type": "stream",
     "text": [
      "1,1\n",
      "2,1\n",
      "3,1\n",
      "1,2\n",
      "2,2\n",
      "3,2\n",
      "1,3\n",
      "2,3\n",
      "3,3\n",
      "[['1,1', '2,1', '3,1', '1,2', '2,2', '3,2', '1,3', '2,3', '3,3']]\n"
     ]
    }
   ],
   "source": [
    "\"\"\"Implement List comprehensions to produce the following lists.\n",
    "Write List comprehensions to produce the following Lists\"\"\"\n",
    "\n",
    "#[(1, 1), (2, 1), (3, 1), (1, 2), (2, 2), (3, 2), (1, 3), (2, 3), (3, 3)]\n",
    "l=[]\n",
    "#a,b=input().split(' ')\n",
    "#l.extend([a,b])\n",
    "#print(l)\n",
    "Val=[(a) for x in range(9) for a in input().split(' ') ]\n",
    "l.append(list(Val))\n",
    "print(l)\n",
    "\n"
   ]
  },
  {
   "cell_type": "code",
   "execution_count": null,
   "metadata": {},
   "outputs": [],
   "source": []
  },
  {
   "cell_type": "code",
   "execution_count": null,
   "metadata": {},
   "outputs": [],
   "source": []
  }
 ],
 "metadata": {
  "kernelspec": {
   "display_name": "Python 3",
   "language": "python",
   "name": "python3"
  },
  "language_info": {
   "codemirror_mode": {
    "name": "ipython",
    "version": 3
   },
   "file_extension": ".py",
   "mimetype": "text/x-python",
   "name": "python",
   "nbconvert_exporter": "python",
   "pygments_lexer": "ipython3",
   "version": "3.7.1"
  }
 },
 "nbformat": 4,
 "nbformat_minor": 2
}
