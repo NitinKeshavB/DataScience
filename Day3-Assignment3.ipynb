{
 "cells": [
  {
   "cell_type": "code",
   "execution_count": 4,
   "metadata": {},
   "outputs": [
    {
     "name": "stdout",
     "output_type": "stream",
     "text": [
      "Enter radius: 4\n",
      "Enter height:5\n",
      "Area of a cone with radius: 4 and height: 5 is 83.73333333333333\n",
      "None\n"
     ]
    }
   ],
   "source": [
    "\"\"\"Write a python program which creates a class named Cone and write a\n",
    "function calculate_area which calculates the area of the Cone.\n",
    "Sample Execution:\n",
    "Please enter the radius of the cone: 4\n",
    "Please enter the height of the cone: 5\n",
    "Area of a cone with radius: 4.00 and height: 5.00 is: 83.73\"\"\"\n",
    "\n",
    "import math\n",
    "\n",
    "class Cone:\n",
    "    def __init__(self,r,h):\n",
    "        self.r=r\n",
    "        self.h=h\n",
    "    \n",
    "    def Area(self):\n",
    "        C_Area=(3.14*self.r*self.r*self.h)/3\n",
    "        print(\"Area of a cone with radius: {} and height: {} is {}\".format(self.r,self.h,C_Area))\n",
    "\n",
    "ConeArea=Cone(int(input(\"Enter radius: \")),int(input(\"Enter height:\")))\n",
    "print(ConeArea.Area())"
   ]
  },
  {
   "cell_type": "code",
   "execution_count": 11,
   "metadata": {},
   "outputs": [
    {
     "name": "stdout",
     "output_type": "stream",
     "text": [
      "x val: 5\n",
      "y val: -3\n",
      "Power of 5,-3 is 0.008\n",
      "None\n"
     ]
    }
   ],
   "source": [
    "\"\"\"2) Define a class MathOperation which implements pow(x,n) without using\n",
    "python's in-built pow() method\n",
    "Sample Execution:\n",
    "M = MathOperation()\n",
    "print(M.pow(2, 3))\n",
    "8\n",
    "print(M.pow(5, -3))\n",
    "0.008\n",
    "print(M.pow(-2, 5))\n",
    "-32\n",
    "print(M.pow(-5, -3))\n",
    "-0.008\n",
    "print(M.pow(20000,0)) \n",
    "1\n",
    "\"\"\"\n",
    "import math\n",
    "\n",
    "class MathOperation():\n",
    "    def __init__(self,x,y):\n",
    "        self.x=x\n",
    "        self.y=y\n",
    "    \n",
    "    def XPowY(self):\n",
    "        z=self.x**self.y\n",
    "        print (\"Power of {},{} is {}\".format(self.x,self.y,z))\n",
    "\n",
    "\n",
    "\n",
    "inputVal=MathOperation(int(input(\"x val: \")),int(input(\"y val: \")))\n",
    "print(inputVal.XPowY())\n",
    "    \n",
    "\n",
    "    "
   ]
  },
  {
   "cell_type": "code",
   "execution_count": 41,
   "metadata": {},
   "outputs": [
    {
     "name": "stdout",
     "output_type": "stream",
     "text": [
      "Derived class is a subclass of Base class : True\n",
      "Base class is a subclass of Derived : False\n",
      "Base class is an instance of Derived class : False\n",
      "Derived class is an instance of Base class : True\n"
     ]
    }
   ],
   "source": [
    "\"\"\"Write a python program that creates a class Base and Derived. Use inbuilt\n",
    "function issubclass and isinstance which gives boolean results.(True or\n",
    "False)\n",
    "Check:\n",
    "Derived class is a subclass of Base class which will return true\n",
    "Base class is a subclass of Derived class which will return false\n",
    "Base class is an instance of Derived class which will return false\n",
    "Derived class is an instance of Base class which will return true\n",
    "\"\"\"\n",
    "\n",
    "class Person:\n",
    "    def __init__(self,first,last):\n",
    "        self.firstname=first\n",
    "        self.lastname=last\n",
    "    \n",
    "    def __str__(self):\n",
    "        return \"Full name is {} {}\".format(self.firstname ,self.lastname)\n",
    "        \n",
    "\n",
    "class Employee(Person):\n",
    "    def __init__(self,first,last):\n",
    "        super().__init__(first,last)\n",
    "    \n",
    "\n",
    "    \n",
    "N=Employee('Nitin','Keshav')\n",
    "print(\"Derived class is a subclass of Base class : {}\".format(issubclass(Employee,Person)))\n",
    "print(\"Base class is a subclass of Derived : {}\".format(issubclass(Person,Employee)))\n",
    "print(\"Base class is an instance of Derived class : {}\".format(isinstance(Person,Employee)))\n",
    "print(\"Derived class is an instance of Base class : {}\".format(isinstance(N,Employee)))"
   ]
  },
  {
   "cell_type": "code",
   "execution_count": 26,
   "metadata": {},
   "outputs": [
    {
     "name": "stdout",
     "output_type": "stream",
     "text": [
      "Full name is Nitin Keshav\n"
     ]
    }
   ],
   "source": [
    "\"\"\"\n",
    "Write a python program that creates base class Person which has two\n",
    "methods\n",
    "def __init__(self, first, last)\n",
    "def __str__(self)\n",
    "Also create a derived class named Employee which uses the base class\n",
    "method “def __str__(self)” using “super()” to concatenate first name wit\n",
    "h last name\n",
    "\"\"\"\n",
    "\n",
    "class Person:\n",
    "    def __init__(self,first,last):\n",
    "        self.firstname=first\n",
    "        self.lastname=last\n",
    "    \n",
    "    def __str__(self):\n",
    "        return \"Full name is {} {}\".format(self.firstname ,self.lastname)\n",
    "        \n",
    "\n",
    "class Employee(Person):\n",
    "    def __init__(self,first,last):\n",
    "        super().__init__(first,last)\n",
    "    \n",
    "\n",
    "    \n",
    "N=Employee('Nitin','Keshav')\n",
    "print(N)\n",
    "\n",
    "    \n"
   ]
  }
 ],
 "metadata": {
  "kernelspec": {
   "display_name": "Python 3",
   "language": "python",
   "name": "python3"
  },
  "language_info": {
   "codemirror_mode": {
    "name": "ipython",
    "version": 3
   },
   "file_extension": ".py",
   "mimetype": "text/x-python",
   "name": "python",
   "nbconvert_exporter": "python",
   "pygments_lexer": "ipython3",
   "version": "3.7.1"
  }
 },
 "nbformat": 4,
 "nbformat_minor": 2
}
