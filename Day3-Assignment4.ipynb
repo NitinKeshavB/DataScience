{
 "cells": [
  {
   "cell_type": "code",
   "execution_count": 2,
   "metadata": {},
   "outputs": [
    {
     "name": "stdout",
     "output_type": "stream",
     "text": [
      "Input Side 1 1\n",
      "Input Side 2 1\n",
      "Input Side 3 1\n",
      "Area of Triangle is 0.4330127018922193 \n"
     ]
    }
   ],
   "source": [
    "\"\"\"1.1 Write a Python Program(with class concepts) to find the area of the triangle using the below\n",
    "formula.\n",
    "area = (s*(s-a)*(s-b)*(s-c)) ** 0.5\n",
    "Function to take the length of the sides of triangle from user should be defined in the parent\n",
    "class and function to calculate the area should be defined in subclass.\"\"\"\n",
    "\n",
    "import math\n",
    "\n",
    "class TriangleArea:\n",
    "    def __init__(self,a,b,c):\n",
    "        self.a=a\n",
    "        self.b=b\n",
    "        self.c=c\n",
    "    \n",
    "    def __str__(self):\n",
    "        s=(self.a+self.b+self.c)/2\n",
    "        Area=math.sqrt(s*(s-self.a)*(s-self.b)*(s-self.c))\n",
    "        return \"Area of Triangle is {} \".format(Area)\n",
    "\n",
    "A1=int(input(\"Input Side 1 \"))\n",
    "B1=int(input(\"Input Side 2 \"))\n",
    "C1=int(input(\"Input Side 3 \"))\n",
    "\n",
    "TrArea=TriangleArea(A1,B1,C1)\n",
    "print(TrArea)\n"
   ]
  },
  {
   "cell_type": "code",
   "execution_count": 2,
   "metadata": {},
   "outputs": [
    {
     "name": "stdout",
     "output_type": "stream",
     "text": [
      "Enter the threshold val: 4\n",
      "Enter the list of words for comparison: Nitin,keshav,hi,at,his,homes\n",
      "['Nitin', 'keshav', 'homes']\n"
     ]
    }
   ],
   "source": [
    "\"\"\"1.2 Write a function filter_long_words() that takes a list of words and an integer n and returns\n",
    "the list of words that are longer than n.\"\"\"\n",
    "\n",
    "def filter_long_words(Word,n):\n",
    "    lst=[]\n",
    "    for val in Word:\n",
    "        if len(val) > n:\n",
    "            lst.append(val)\n",
    "    return lst\n",
    "\n",
    "MaxVal=int(input(\"Enter the threshold val: \"))\n",
    "Words=input(\"Enter the list of words for comparison: \").split(\",\")\n",
    "\n",
    "print(filter_long_words(Words,MaxVal))"
   ]
  },
  {
   "cell_type": "code",
   "execution_count": 11,
   "metadata": {},
   "outputs": [
    {
     "name": "stdout",
     "output_type": "stream",
     "text": [
      "Enter the list: ab,cde,erty\n",
      "[2, 3, 4]\n"
     ]
    }
   ],
   "source": [
    "\"\"\"2.1 Write a Python program using function concept that maps list of words into a list of integers\n",
    "representing the lengths of the corresponding words.\n",
    "Hint: ​If a list [ ab,cde,erty] is passed on to the python function output should come as [2,3,4]\n",
    "Here 2,3 and 4 are the lengths of the words in the list.\"\"\"\n",
    "\n",
    "\n",
    "\n",
    "\n",
    "arr=input(\"Enter the list: \").strip().split(\",\")\n",
    "MapOut=map(lambda x:len(x),arr)\n",
    "print(list(MapOut))\n"
   ]
  },
  {
   "cell_type": "code",
   "execution_count": 19,
   "metadata": {},
   "outputs": [
    {
     "name": "stdout",
     "output_type": "stream",
     "text": [
      "Character: b\n",
      "False\n"
     ]
    }
   ],
   "source": [
    "\"\"\"2.2 Write a Python function which takes a character (i.e. a string of length 1) and returns True if\n",
    "it is a vowel, False otherwise.\"\"\"\n",
    "\n",
    "\n",
    "vowelList=['a','e','i','o','u']\n",
    "\n",
    "def VowelOrNot(Ch):\n",
    "    if Ch in vowelList:\n",
    "        return True\n",
    "    else:\n",
    "        return False\n",
    "\n",
    "print(VowelOrNot(input(\"Character: \")))\n",
    "        "
   ]
  },
  {
   "cell_type": "code",
   "execution_count": null,
   "metadata": {},
   "outputs": [],
   "source": []
  }
 ],
 "metadata": {
  "kernelspec": {
   "display_name": "Python 3",
   "language": "python",
   "name": "python3"
  },
  "language_info": {
   "codemirror_mode": {
    "name": "ipython",
    "version": 3
   },
   "file_extension": ".py",
   "mimetype": "text/x-python",
   "name": "python",
   "nbconvert_exporter": "python",
   "pygments_lexer": "ipython3",
   "version": "3.7.1"
  }
 },
 "nbformat": 4,
 "nbformat_minor": 2
}
