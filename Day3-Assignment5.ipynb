{
 "cells": [
  {
   "cell_type": "code",
   "execution_count": 11,
   "metadata": {},
   "outputs": [
    {
     "name": "stdout",
     "output_type": "stream",
     "text": [
      " Num1: 10\n",
      " Num2: 0\n",
      "Zero Division Error Occured, hence exiting with error!\n",
      "Completed!\n",
      "None\n"
     ]
    }
   ],
   "source": [
    "\"\"\"Write a function to compute 5/0 and use try/except to catch the exceptions.\"\"\"\n",
    "import sys\n",
    "\n",
    "def InputNumber(num1,num2):\n",
    "    try:\n",
    "        num3=num1/num2\n",
    "    except ZeroDivisionError as e:\n",
    "        print(\"Zero Division Error Occured, hence exiting with error!\")\n",
    "    else:\n",
    "        print(\"Done with Calculation: {}\".format(num3))\n",
    "    finally:\n",
    "        print(\"Completed!\")\n",
    "    return\n",
    "\n",
    "    \n",
    "num1=int(input(\" Num1: \"))\n",
    "num2=int(input(\" Num2: \"))\n",
    "\n",
    "print(InputNumber(num1,num2))"
   ]
  },
  {
   "cell_type": "code",
   "execution_count": 12,
   "metadata": {},
   "outputs": [
    {
     "name": "stdout",
     "output_type": "stream",
     "text": [
      "Americans  play Baseball\n",
      "Americans  play Cricket\n",
      "Americans  watch Baseball\n",
      "Americans  watch Cricket\n",
      "Indians play Baseball\n",
      "Indians play Cricket\n",
      "Indians watch Baseball\n",
      "Indians watch Cricket\n"
     ]
    }
   ],
   "source": [
    "\"\"\"Implement a Python program to generate all sentences where subject is in [\"Americans\",\n",
    "\"Indians\"] and verb is in [\"Play\", \"watch\"] and the object is in [\"Baseball\",\"cricket\"].\n",
    "Hint: Subject,Verb and Object should be declared in the program as shown below.\n",
    "subjects=[\"Americans \",\"Indians\"]\n",
    "verbs=[\"play\",\"watch\"]\n",
    "objects=[\"Baseball\",\"Cricket\"] \"\"\"\n",
    "\n",
    "subjects=[\"Americans \",\"Indians\"]\n",
    "verbs=[\"play\",\"watch\"]\n",
    "objects=[\"Baseball\",\"Cricket\"]\n",
    "\n",
    "\n",
    "for sub in subjects:\n",
    "    for ver in verbs:\n",
    "        for obj in objects:\n",
    "            print(\"{} {} {}\".format(sub,ver,obj))\n"
   ]
  },
  {
   "cell_type": "code",
   "execution_count": null,
   "metadata": {},
   "outputs": [],
   "source": []
  }
 ],
 "metadata": {
  "kernelspec": {
   "display_name": "Python 3",
   "language": "python",
   "name": "python3"
  },
  "language_info": {
   "codemirror_mode": {
    "name": "ipython",
    "version": 3
   },
   "file_extension": ".py",
   "mimetype": "text/x-python",
   "name": "python",
   "nbconvert_exporter": "python",
   "pygments_lexer": "ipython3",
   "version": "3.7.1"
  }
 },
 "nbformat": 4,
 "nbformat_minor": 2
}
