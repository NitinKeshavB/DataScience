{
 "cells": [
  {
   "cell_type": "markdown",
   "metadata": {},
   "source": [
    "## Piggy Bank Software\n",
    "\n",
    "We should create a piigy bank application for school children to teach them importance of savings.\n",
    "They should have the option to :\n",
    "\n",
    "* Add modeny \n",
    "* withdraw money\n",
    "* Check the current amount in the piggy bank"
   ]
  },
  {
   "cell_type": "code",
   "execution_count": null,
   "metadata": {},
   "outputs": [
    {
     "name": "stdout",
     "output_type": "stream",
     "text": [
      " \n",
      "--------------------Start-------------------\n",
      " \n",
      "Start or End : Start\n",
      "Add , Withdraw or Check : Add\n",
      " \n",
      "Add amount : 1000\n",
      " \n",
      "After adding , your updated balance is 1000.0 rupees\n",
      "None\n",
      " \n",
      "Start or End : Start\n",
      "Add , Withdraw or Check : Withdraw\n",
      " \n",
      "withdraw amount : 300\n",
      " \n",
      "After withdrawing , balance amount is  700.0 rupees\n",
      "None\n",
      " \n",
      "Start or End : Start'\n",
      " \n",
      "Start or End : Start\n",
      "Add , Withdraw or Check : Check\n",
      " \n",
      "Your current balance is 700.0 rupees\n",
      "None\n",
      " \n"
     ]
    }
   ],
   "source": [
    "import piggy_bank"
   ]
  },
  {
   "cell_type": "markdown",
   "metadata": {},
   "source": [
    "## Assignment \n",
    "\n",
    "Develope an piggy bank application, which will work as per above instruction.\n"
   ]
  },
  {
   "cell_type": "code",
   "execution_count": 1,
   "metadata": {},
   "outputs": [
    {
     "name": "stdout",
     "output_type": "stream",
     "text": [
      "Enter Start or End Start\n",
      "Welcome to Piggy Banking!!\n",
      "Please Enter the banking Operation: ADD or WITHDRAW or CHECK : ADD\n",
      "Please Enter the Amount to Deposit: 300\n",
      "After Adding, the Balance amount is 1300.0 \n",
      "Done Depositting!\n",
      "Enter Start or End Start\n",
      "Welcome to Piggy Banking!!\n",
      "Please Enter the banking Operation: ADD or WITHDRAW or CHECK : WITHDRAW\n",
      "Please Enter the Amount to withdraw: 500\n",
      "After withdrawing, the Balance amount is 800.0\n",
      "Done Withdrawing!\n",
      "Enter Start or End Start\n",
      "Welcome to Piggy Banking!!\n",
      "Please Enter the banking Operation: ADD or WITHDRAW or CHECK : Check\n",
      "your Current Balance is 800.0\n",
      "Done Checking!\n",
      "Enter Start or End Start\n",
      "Welcome to Piggy Banking!!\n",
      "Please Enter the banking Operation: ADD or WITHDRAW or CHECK : add\n",
      "Please Enter the Amount to Deposit: 800\n",
      "After Adding, the Balance amount is 1600.0 \n",
      "Done Depositting!\n",
      "Enter Start or End start\n",
      "Welcome to Piggy Banking!!\n",
      "Please Enter the banking Operation: ADD or WITHDRAW or CHECK : error\n",
      "Enter a Valid input!\n",
      "Enter Start or End start\n",
      "Welcome to Piggy Banking!!\n",
      "Please Enter the banking Operation: ADD or WITHDRAW or CHECK : check\n",
      "your Current Balance is 1600.0\n",
      "Done Checking!\n",
      "Enter Start or End end\n",
      "Breaking!\n"
     ]
    }
   ],
   "source": [
    "class Banking:\n",
    "    Balance=1000\n",
    "    \n",
    "    def __init__(self,operation,amount):\n",
    "        self.operation=operation\n",
    "        self.amount=amount\n",
    "        \n",
    "    def withdraw(self):\n",
    "        if(self.operation.upper()=='WITHDRAW'):\n",
    "            Banking.Balance=Banking.Balance-self.amount\n",
    "            return \"After withdrawing, the Balance amount is {}\".format(Banking.Balance)\n",
    "    \n",
    "    def Deposit(self):\n",
    "        if(self.operation.upper()=='ADD'):\n",
    "            Banking.Balance=Banking.Balance+self.amount\n",
    "            return \"After Adding, the Balance amount is {} \".format(Banking.Balance)\n",
    "    \n",
    "\n",
    "       \n",
    "while True:\n",
    "    UserInput=str(input(\"Enter Start or End \"))\n",
    "    \n",
    "    if UserInput.upper()=='END':\n",
    "        print('Breaking!')\n",
    "        break\n",
    "    else:\n",
    "        print(\"Welcome to Piggy Banking!!\")\n",
    "        BankingInput=input(\"Please Enter the banking Operation: ADD or WITHDRAW or CHECK : \")\n",
    "        \n",
    "        if str(BankingInput).upper()=='CHECK':\n",
    "            Check=Banking(\"CHECK\",0)\n",
    "            print(\"your Current Balance is {}\".format(Check.Balance))\n",
    "            print(\"Done Checking!\")\n",
    "            continue\n",
    "        elif str(BankingInput).upper()=='ADD':\n",
    "            BankingDepositAmount=float(input(\"Please Enter the Amount to Deposit: \"))\n",
    "            Adding=Banking(\"ADD\",BankingDepositAmount)\n",
    "            print(Adding.Deposit())\n",
    "            print(\"Done Depositting!\")\n",
    "            continue\n",
    "        elif str(BankingInput).upper()=='WITHDRAW':\n",
    "            BankingWithdrawAmount=float(input(\"Please Enter the Amount to withdraw: \"))\n",
    "            withdraw=Banking(\"withdraw\",BankingWithdrawAmount)\n",
    "            print(withdraw.withdraw())\n",
    "            print(\"Done Withdrawing!\")\n",
    "            continue\n",
    "        else:\n",
    "            print(\"Enter a Valid input!\")\n",
    "            continue\n",
    "        \n",
    "        \n",
    "            \n",
    "                \n",
    "\n",
    "\n",
    "    \n",
    "\n"
   ]
  },
  {
   "cell_type": "code",
   "execution_count": null,
   "metadata": {},
   "outputs": [],
   "source": []
  },
  {
   "cell_type": "code",
   "execution_count": null,
   "metadata": {},
   "outputs": [],
   "source": []
  }
 ],
 "metadata": {
  "kernelspec": {
   "display_name": "Python 3",
   "language": "python",
   "name": "python3"
  },
  "language_info": {
   "codemirror_mode": {
    "name": "ipython",
    "version": 3
   },
   "file_extension": ".py",
   "mimetype": "text/x-python",
   "name": "python",
   "nbconvert_exporter": "python",
   "pygments_lexer": "ipython3",
   "version": "3.7.1"
  }
 },
 "nbformat": 4,
 "nbformat_minor": 2
}
